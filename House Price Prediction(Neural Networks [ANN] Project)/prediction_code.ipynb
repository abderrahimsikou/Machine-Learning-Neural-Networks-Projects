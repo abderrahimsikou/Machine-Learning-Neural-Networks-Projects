{
  "nbformat": 4,
  "nbformat_minor": 0,
  "metadata": {
    "colab": {
      "provenance": []
    },
    "kernelspec": {
      "name": "python3",
      "display_name": "Python 3"
    },
    "language_info": {
      "name": "python"
    }
  },
  "cells": [
    {
      "cell_type": "code",
      "source": [
        "# Prediction Part\n",
        "from tensorflow.keras.models import load_model\n",
        "import pandas as pd\n",
        "import joblib"
      ],
      "metadata": {
        "id": "mO8PEoVnr63g"
      },
      "execution_count": 16,
      "outputs": []
    },
    {
      "cell_type": "code",
      "execution_count": 17,
      "metadata": {
        "colab": {
          "base_uri": "https://localhost:8080/"
        },
        "id": "wrKTcLp_dVLd",
        "outputId": "805272b9-4a08-4e89-c32d-6f340e0d944c"
      },
      "outputs": [
        {
          "output_type": "stream",
          "name": "stderr",
          "text": [
            "WARNING:absl:Compiled the loaded model, but the compiled metrics have yet to be built. `model.compile_metrics` will be empty until you train or evaluate the model.\n",
            "WARNING:tensorflow:6 out of the last 6 calls to <function TensorFlowTrainer.make_predict_function.<locals>.one_step_on_data_distributed at 0x79b22905c670> triggered tf.function retracing. Tracing is expensive and the excessive number of tracings could be due to (1) creating @tf.function repeatedly in a loop, (2) passing tensors with different shapes, (3) passing Python objects instead of tensors. For (1), please define your @tf.function outside of the loop. For (2), @tf.function has reduce_retracing=True option that can avoid unnecessary retracing. For (3), please refer to https://www.tensorflow.org/guide/function#controlling_retracing and https://www.tensorflow.org/api_docs/python/tf/function for  more details.\n"
          ]
        },
        {
          "output_type": "stream",
          "name": "stdout",
          "text": [
            "\u001b[1m1/1\u001b[0m \u001b[32m━━━━━━━━━━━━━━━━━━━━\u001b[0m\u001b[37m\u001b[0m \u001b[1m0s\u001b[0m 69ms/step\n",
            "Prediction for new data: [[ 348914.8  ]\n",
            " [ 370401.5  ]\n",
            " [ 479087.28 ]\n",
            " [ 229768.9  ]\n",
            " [ 178903.16 ]\n",
            " [2020595.   ]\n",
            " [  30348.889]\n",
            " [ 264327.78 ]\n",
            " [ 274661.25 ]]\n"
          ]
        }
      ],
      "source": [
        "# Upload data\n",
        "data = pd.read_csv('testing_dataset.csv')\n",
        "\n",
        "# Upload model\n",
        "model = load_model('/content/model.h5', custom_objects={'mse': 'mean_squared_error', 'mae': 'mean_absolute_error'})\n",
        "\n",
        "# Upload StandardScaler\n",
        "scaler = joblib.load('/content/StandardScaler.pkl')\n",
        "\n",
        "# Features\n",
        "features = ['sqft_living','grade','sqft_above','sqft_living15','bathrooms','view','sqft_basement','bedrooms','lat']\n",
        "test_data = data[features]\n",
        "\n",
        "# Scaler data\n",
        "scaler_data = scaler.transform(test_data)\n",
        "\n",
        "# Predict\n",
        "prediction = model.predict(scaler_data)\n",
        "\n",
        "print('Prediction for new data:',prediction)"
      ]
    }
  ]
}