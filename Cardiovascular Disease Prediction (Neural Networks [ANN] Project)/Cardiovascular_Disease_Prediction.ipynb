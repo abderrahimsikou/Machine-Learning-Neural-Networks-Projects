{
  "nbformat": 4,
  "nbformat_minor": 0,
  "metadata": {
    "colab": {
      "provenance": []
    },
    "kernelspec": {
      "name": "python3",
      "display_name": "Python 3"
    },
    "language_info": {
      "name": "python"
    }
  },
  "cells": [
    {
      "cell_type": "code",
      "source": [
        "import pandas as pd\n",
        "from tensorflow.keras.models import Sequential\n",
        "from tensorflow.keras.layers import Dense , Input, Dropout\n",
        "from sklearn.model_selection import train_test_split\n",
        "from sklearn.preprocessing import StandardScaler\n",
        "from google.colab import files"
      ],
      "metadata": {
        "id": "QLU4iW4Jl2Y1"
      },
      "execution_count": 122,
      "outputs": []
    },
    {
      "cell_type": "code",
      "source": [
        "data = pd.read_csv('training_dataset.csv')\n",
        "\n",
        "print(data.head())\n",
        "print(data.isnull().sum())\n",
        "print(data.dtypes)\n",
        "print(data.duplicated().sum())"
      ],
      "metadata": {
        "colab": {
          "base_uri": "https://localhost:8080/"
        },
        "id": "nw7475KrmU-X",
        "outputId": "bb2fa94e-bb32-466d-f8a2-302deb35b171"
      },
      "execution_count": 124,
      "outputs": [
        {
          "output_type": "stream",
          "name": "stdout",
          "text": [
            "   id    age  gender  height  weight  ap_hi  ap_lo  cholesterol  gluc  smoke  \\\n",
            "0   0  18393       2     168      62    110     80            1     1      0   \n",
            "1   1  20228       1     156      85    140     90            3     1      0   \n",
            "2   2  18857       1     165      64    130     70            3     1      0   \n",
            "3   3  17623       2     169      82    150    100            1     1      0   \n",
            "4   4  17474       1     156      56    100     60            1     1      0   \n",
            "\n",
            "   alco  active  cardio  \n",
            "0     0       1       0  \n",
            "1     0       1       1  \n",
            "2     0       0       1  \n",
            "3     0       1       1  \n",
            "4     0       0       0  \n",
            "id             0\n",
            "age            0\n",
            "gender         0\n",
            "height         0\n",
            "weight         0\n",
            "ap_hi          0\n",
            "ap_lo          0\n",
            "cholesterol    0\n",
            "gluc           0\n",
            "smoke          0\n",
            "alco           0\n",
            "active         0\n",
            "cardio         0\n",
            "dtype: int64\n",
            "id             int64\n",
            "age            int64\n",
            "gender         int64\n",
            "height         int64\n",
            "weight         int64\n",
            "ap_hi          int64\n",
            "ap_lo          int64\n",
            "cholesterol    int64\n",
            "gluc           int64\n",
            "smoke          int64\n",
            "alco           int64\n",
            "active         int64\n",
            "cardio         int64\n",
            "dtype: object\n",
            "0\n"
          ]
        }
      ]
    },
    {
      "cell_type": "code",
      "source": [
        "#Prepares Data by splitting into features [x] and target [y]\n",
        "\n",
        "x = data.drop(['id','cardio'], axis=1)\n",
        "y = data['cardio']\n",
        "\n",
        "#Split data\n",
        "x_train , x_test , y_train , y_test = train_test_split(x,y , test_size=0.2,random_state=42)\n",
        "\n",
        "scaler = StandardScaler()\n",
        "x_train = scaler.fit_transform(x_train)\n",
        "x_test = scaler.fit_transform(x_test)"
      ],
      "metadata": {
        "id": "WLjn5h28nCDM"
      },
      "execution_count": 109,
      "outputs": []
    },
    {
      "cell_type": "code",
      "source": [
        "# Build model\n",
        "model = Sequential([\n",
        "    Input(shape=(11,)),\n",
        "\n",
        "    Dense(units=64, activation='relu'),\n",
        "\n",
        "    Dense(units=32, activation='relu'),\n",
        "\n",
        "    Dropout(0.3),\n",
        "\n",
        "    Dense(1, activation='sigmoid')\n",
        "])\n",
        "\n",
        "# Compile mode\n",
        "model.compile(optimizer='adam', loss='binary_crossentropy', metrics=['accuracy'])"
      ],
      "metadata": {
        "id": "tDdyNbfRnQfi"
      },
      "execution_count": 110,
      "outputs": []
    },
    {
      "cell_type": "code",
      "source": [
        "# Train model\n",
        "history = model.fit(x_train,y_train, epochs=20 , batch_size=32, validation_split=0.2)\n",
        "\n",
        "# Evaluate model\n",
        "\n",
        "loss, accuracy = model.evaluate(x_test,y_test)\n",
        "print('Accuracy:', accuracy * 100, '%')"
      ],
      "metadata": {
        "colab": {
          "base_uri": "https://localhost:8080/"
        },
        "id": "LNmMmxQPowLw",
        "outputId": "26706e28-b929-4c05-a981-a54feeb46e66"
      },
      "execution_count": 111,
      "outputs": [
        {
          "output_type": "stream",
          "name": "stdout",
          "text": [
            "Epoch 1/20\n",
            "\u001b[1m1400/1400\u001b[0m \u001b[32m━━━━━━━━━━━━━━━━━━━━\u001b[0m\u001b[37m\u001b[0m \u001b[1m4s\u001b[0m 2ms/step - accuracy: 0.6497 - loss: 0.6297 - val_accuracy: 0.7229 - val_loss: 0.5643\n",
            "Epoch 2/20\n",
            "\u001b[1m1400/1400\u001b[0m \u001b[32m━━━━━━━━━━━━━━━━━━━━\u001b[0m\u001b[37m\u001b[0m \u001b[1m4s\u001b[0m 3ms/step - accuracy: 0.7218 - loss: 0.5705 - val_accuracy: 0.7274 - val_loss: 0.5604\n",
            "Epoch 3/20\n",
            "\u001b[1m1400/1400\u001b[0m \u001b[32m━━━━━━━━━━━━━━━━━━━━\u001b[0m\u001b[37m\u001b[0m \u001b[1m4s\u001b[0m 2ms/step - accuracy: 0.7250 - loss: 0.5615 - val_accuracy: 0.7342 - val_loss: 0.5508\n",
            "Epoch 4/20\n",
            "\u001b[1m1400/1400\u001b[0m \u001b[32m━━━━━━━━━━━━━━━━━━━━\u001b[0m\u001b[37m\u001b[0m \u001b[1m5s\u001b[0m 2ms/step - accuracy: 0.7245 - loss: 0.5594 - val_accuracy: 0.7346 - val_loss: 0.5468\n",
            "Epoch 5/20\n",
            "\u001b[1m1400/1400\u001b[0m \u001b[32m━━━━━━━━━━━━━━━━━━━━\u001b[0m\u001b[37m\u001b[0m \u001b[1m3s\u001b[0m 2ms/step - accuracy: 0.7276 - loss: 0.5589 - val_accuracy: 0.7325 - val_loss: 0.5468\n",
            "Epoch 6/20\n",
            "\u001b[1m1400/1400\u001b[0m \u001b[32m━━━━━━━━━━━━━━━━━━━━\u001b[0m\u001b[37m\u001b[0m \u001b[1m3s\u001b[0m 2ms/step - accuracy: 0.7296 - loss: 0.5609 - val_accuracy: 0.7347 - val_loss: 0.5449\n",
            "Epoch 7/20\n",
            "\u001b[1m1400/1400\u001b[0m \u001b[32m━━━━━━━━━━━━━━━━━━━━\u001b[0m\u001b[37m\u001b[0m \u001b[1m3s\u001b[0m 2ms/step - accuracy: 0.7231 - loss: 0.5583 - val_accuracy: 0.7343 - val_loss: 0.5440\n",
            "Epoch 8/20\n",
            "\u001b[1m1400/1400\u001b[0m \u001b[32m━━━━━━━━━━━━━━━━━━━━\u001b[0m\u001b[37m\u001b[0m \u001b[1m3s\u001b[0m 2ms/step - accuracy: 0.7359 - loss: 0.5436 - val_accuracy: 0.7351 - val_loss: 0.5432\n",
            "Epoch 9/20\n",
            "\u001b[1m1400/1400\u001b[0m \u001b[32m━━━━━━━━━━━━━━━━━━━━\u001b[0m\u001b[37m\u001b[0m \u001b[1m6s\u001b[0m 2ms/step - accuracy: 0.7318 - loss: 0.5476 - val_accuracy: 0.7332 - val_loss: 0.5432\n",
            "Epoch 10/20\n",
            "\u001b[1m1400/1400\u001b[0m \u001b[32m━━━━━━━━━━━━━━━━━━━━\u001b[0m\u001b[37m\u001b[0m \u001b[1m4s\u001b[0m 2ms/step - accuracy: 0.7321 - loss: 0.5483 - val_accuracy: 0.7366 - val_loss: 0.5430\n",
            "Epoch 11/20\n",
            "\u001b[1m1400/1400\u001b[0m \u001b[32m━━━━━━━━━━━━━━━━━━━━\u001b[0m\u001b[37m\u001b[0m \u001b[1m5s\u001b[0m 2ms/step - accuracy: 0.7341 - loss: 0.5456 - val_accuracy: 0.7360 - val_loss: 0.5418\n",
            "Epoch 12/20\n",
            "\u001b[1m1400/1400\u001b[0m \u001b[32m━━━━━━━━━━━━━━━━━━━━\u001b[0m\u001b[37m\u001b[0m \u001b[1m3s\u001b[0m 2ms/step - accuracy: 0.7311 - loss: 0.5484 - val_accuracy: 0.7379 - val_loss: 0.5414\n",
            "Epoch 13/20\n",
            "\u001b[1m1400/1400\u001b[0m \u001b[32m━━━━━━━━━━━━━━━━━━━━\u001b[0m\u001b[37m\u001b[0m \u001b[1m4s\u001b[0m 2ms/step - accuracy: 0.7332 - loss: 0.5466 - val_accuracy: 0.7376 - val_loss: 0.5412\n",
            "Epoch 14/20\n",
            "\u001b[1m1400/1400\u001b[0m \u001b[32m━━━━━━━━━━━━━━━━━━━━\u001b[0m\u001b[37m\u001b[0m \u001b[1m5s\u001b[0m 2ms/step - accuracy: 0.7324 - loss: 0.5450 - val_accuracy: 0.7362 - val_loss: 0.5424\n",
            "Epoch 15/20\n",
            "\u001b[1m1400/1400\u001b[0m \u001b[32m━━━━━━━━━━━━━━━━━━━━\u001b[0m\u001b[37m\u001b[0m \u001b[1m5s\u001b[0m 2ms/step - accuracy: 0.7352 - loss: 0.5450 - val_accuracy: 0.7374 - val_loss: 0.5417\n",
            "Epoch 16/20\n",
            "\u001b[1m1400/1400\u001b[0m \u001b[32m━━━━━━━━━━━━━━━━━━━━\u001b[0m\u001b[37m\u001b[0m \u001b[1m5s\u001b[0m 2ms/step - accuracy: 0.7344 - loss: 0.5404 - val_accuracy: 0.7360 - val_loss: 0.5407\n",
            "Epoch 17/20\n",
            "\u001b[1m1400/1400\u001b[0m \u001b[32m━━━━━━━━━━━━━━━━━━━━\u001b[0m\u001b[37m\u001b[0m \u001b[1m5s\u001b[0m 2ms/step - accuracy: 0.7292 - loss: 0.5475 - val_accuracy: 0.7358 - val_loss: 0.5424\n",
            "Epoch 18/20\n",
            "\u001b[1m1400/1400\u001b[0m \u001b[32m━━━━━━━━━━━━━━━━━━━━\u001b[0m\u001b[37m\u001b[0m \u001b[1m4s\u001b[0m 3ms/step - accuracy: 0.7340 - loss: 0.5434 - val_accuracy: 0.7343 - val_loss: 0.5435\n",
            "Epoch 19/20\n",
            "\u001b[1m1400/1400\u001b[0m \u001b[32m━━━━━━━━━━━━━━━━━━━━\u001b[0m\u001b[37m\u001b[0m \u001b[1m3s\u001b[0m 2ms/step - accuracy: 0.7320 - loss: 0.5458 - val_accuracy: 0.7352 - val_loss: 0.5412\n",
            "Epoch 20/20\n",
            "\u001b[1m1400/1400\u001b[0m \u001b[32m━━━━━━━━━━━━━━━━━━━━\u001b[0m\u001b[37m\u001b[0m \u001b[1m5s\u001b[0m 2ms/step - accuracy: 0.7329 - loss: 0.5422 - val_accuracy: 0.7354 - val_loss: 0.5422\n",
            "\u001b[1m438/438\u001b[0m \u001b[32m━━━━━━━━━━━━━━━━━━━━\u001b[0m\u001b[37m\u001b[0m \u001b[1m1s\u001b[0m 1ms/step - accuracy: 0.7430 - loss: 0.5381\n",
            "Accuracy: 73.72142672538757 %\n"
          ]
        }
      ]
    },
    {
      "cell_type": "code",
      "source": [
        "import matplotlib.pyplot as plt\n",
        "\n",
        "# Drawing training results\n",
        "\n",
        "# رسم دقة النموذج\n",
        "plt.plot(history.history['accuracy'], label='Train Accuracy')\n",
        "plt.plot(history.history['val_accuracy'], label='Validation Accuracy')\n",
        "plt.xlabel('Epochs')\n",
        "plt.ylabel('Accuracy')\n",
        "plt.legend()\n",
        "plt.show()\n",
        "\n",
        "# رسم الخسارة\n",
        "plt.plot(history.history['loss'], label='Train Loss')\n",
        "plt.plot(history.history['val_loss'], label='Validation Loss')\n",
        "plt.xlabel('Epochs')\n",
        "plt.ylabel('Loss')\n",
        "plt.legend()\n",
        "plt.show()"
      ],
      "metadata": {
        "colab": {
          "base_uri": "https://localhost:8080/",
          "height": 883
        },
        "id": "CuXxREyfo_Pe",
        "outputId": "d5bb6879-86cf-42b3-f62c-69a6b5043d0e"
      },
      "execution_count": 113,
      "outputs": [
        {
          "output_type": "display_data",
          "data": {
            "text/plain": [
              "<Figure size 640x480 with 1 Axes>"
            ],
            "image/png": "[encoded data removed]"
          },
          "metadata": {}
        },
        {
          "output_type": "display_data",
          "data": {
            "text/plain": [
              "<Figure size 640x480 with 1 Axes>"
            ],
            "image/png": "[encoded data removed]"
          },
          "metadata": {}
        }
      ]
    },
    {
      "cell_type": "code",
      "source": [
        "#Save & Download Model\n",
        "\n",
        "model.save('model.h5')            #Save Model\n",
        "files.download('model.h5')        #Download Model"
      ],
      "metadata": {
        "colab": {
          "base_uri": "https://localhost:8080/",
          "height": 54
        },
        "id": "Vtm8fxrNCBGd",
        "outputId": "0a3497ad-45c7-41cf-e178-9692fd58488a"
      },
      "execution_count": 123,
      "outputs": [
        {
          "output_type": "stream",
          "name": "stderr",
          "text": [
            "WARNING:absl:You are saving your model as an HDF5 file via `model.save()` or `keras.saving.save_model(model)`. This file format is considered legacy. We recommend using instead the native Keras format, e.g. `model.save('my_model.keras')` or `keras.saving.save_model(model, 'my_model.keras')`. \n"
          ]
        },
        {
          "output_type": "display_data",
          "data": {
            "text/plain": [
              "<IPython.core.display.Javascript object>"
            ],
            "application/javascript": [
              "\n",
              "    async function download(id, filename, size) {\n",
              "      if (!google.colab.kernel.accessAllowed) {\n",
              "        return;\n",
              "      }\n",
              "      const div = document.createElement('div');\n",
              "      const label = document.createElement('label');\n",
              "      label.textContent = `Downloading \"${filename}\": `;\n",
              "      div.appendChild(label);\n",
              "      const progress = document.createElement('progress');\n",
              "      progress.max = size;\n",
              "      div.appendChild(progress);\n",
              "      document.body.appendChild(div);\n",
              "\n",
              "      const buffers = [];\n",
              "      let downloaded = 0;\n",
              "\n",
              "      const channel = await google.colab.kernel.comms.open(id);\n",
              "      // Send a message to notify the kernel that we're ready.\n",
              "      channel.send({})\n",
              "\n",
              "      for await (const message of channel.messages) {\n",
              "        // Send a message to notify the kernel that we're ready.\n",
              "        channel.send({})\n",
              "        if (message.buffers) {\n",
              "          for (const buffer of message.buffers) {\n",
              "            buffers.push(buffer);\n",
              "            downloaded += buffer.byteLength;\n",
              "            progress.value = downloaded;\n",
              "          }\n",
              "        }\n",
              "      }\n",
              "      const blob = new Blob(buffers, {type: 'application/binary'});\n",
              "      const a = document.createElement('a');\n",
              "      a.href = window.URL.createObjectURL(blob);\n",
              "      a.download = filename;\n",
              "      div.appendChild(a);\n",
              "      a.click();\n",
              "      div.remove();\n",
              "    }\n",
              "  "
            ]
          },
          "metadata": {}
        },
        {
          "output_type": "display_data",
          "data": {
            "text/plain": [
              "<IPython.core.display.Javascript object>"
            ],
            "application/javascript": [
              "download(\"download_0cdf3b1d-b390-454f-bd68-f3a53bb52b55\", \"model.h5\", 67064)"
            ]
          },
          "metadata": {}
        }
      ]
    },
    {
      "cell_type": "code",
      "source": [
        "# Prediction Part\n",
        "\n",
        "data = pd.read_csv('testing_dataset.csv')\n",
        "\n",
        "print(data.head())\n",
        "print(data.isnull().sum())\n",
        "print(data.dtypes)\n",
        "print(data.duplicated().sum())\n",
        "\n",
        "data = data.drop('id',axis=1)\n",
        "\n",
        "#scaler data\n",
        "\n",
        "scaler_data = scaler.transform(data)\n",
        "\n",
        "#predict using test_dataset\n",
        "\n",
        "prediction = model.predict(scaler_data)\n",
        "prediction = (prediction > 0.5).astype(int)\n",
        "\n",
        "print('Prediction for new data:',prediction)"
      ],
      "metadata": {
        "colab": {
          "base_uri": "https://localhost:8080/"
        },
        "id": "BAH5_LJk_TFW",
        "outputId": "1c318098-2f3a-4927-9209-03b7dabafe78"
      },
      "execution_count": 126,
      "outputs": [
        {
          "output_type": "stream",
          "name": "stdout",
          "text": [
            "   id    age  gender  height  weight  ap_hi  ap_lo  cholesterol  gluc  smoke  \\\n",
            "0   0  18393       2     168      62    110     80            1     1      0   \n",
            "1   1  20228       1     156      85    140     90            3     1      0   \n",
            "2   2  18857       1     165      64    130     70            3     1      0   \n",
            "3   3  17623       2     169      82    150    100            1     1      0   \n",
            "4   4  17474       1     156      56    100     60            1     1      0   \n",
            "\n",
            "   alco  active  \n",
            "0     0       1  \n",
            "1     0       1  \n",
            "2     0       0  \n",
            "3     0       1  \n",
            "4     0       0  \n",
            "id             0\n",
            "age            0\n",
            "gender         0\n",
            "height         0\n",
            "weight         0\n",
            "ap_hi          0\n",
            "ap_lo          0\n",
            "cholesterol    0\n",
            "gluc           0\n",
            "smoke          0\n",
            "alco           0\n",
            "active         0\n",
            "dtype: int64\n",
            "id             int64\n",
            "age            int64\n",
            "gender         int64\n",
            "height         int64\n",
            "weight         int64\n",
            "ap_hi          int64\n",
            "ap_lo          int64\n",
            "cholesterol    int64\n",
            "gluc           int64\n",
            "smoke          int64\n",
            "alco           int64\n",
            "active         int64\n",
            "dtype: object\n",
            "0\n",
            "\u001b[1m1/1\u001b[0m \u001b[32m━━━━━━━━━━━━━━━━━━━━\u001b[0m\u001b[37m\u001b[0m \u001b[1m0s\u001b[0m 20ms/step\n",
            "Prediction for new data: [[0]\n",
            " [1]\n",
            " [1]\n",
            " [1]\n",
            " [0]\n",
            " [1]\n",
            " [1]\n",
            " [1]\n",
            " [0]\n",
            " [0]]\n"
          ]
        }
      ]
    }
  ]
}