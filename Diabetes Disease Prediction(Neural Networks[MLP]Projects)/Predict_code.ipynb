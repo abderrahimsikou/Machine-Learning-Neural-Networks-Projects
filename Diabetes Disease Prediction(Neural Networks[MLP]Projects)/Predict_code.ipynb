{
  "nbformat": 4,
  "nbformat_minor": 0,
  "metadata": {
    "colab": {
      "provenance": []
    },
    "kernelspec": {
      "name": "python3",
      "display_name": "Python 3"
    },
    "language_info": {
      "name": "python"
    }
  },
  "cells": [
    {
      "cell_type": "code",
      "execution_count": 11,
      "metadata": {
        "colab": {
          "base_uri": "https://localhost:8080/"
        },
        "id": "4yWni2G95WnL",
        "outputId": "5d9db498-d5d4-4793-dfaa-3c26b12f26a8"
      },
      "outputs": [
        {
          "output_type": "stream",
          "name": "stderr",
          "text": [
            "WARNING:absl:Compiled the loaded model, but the compiled metrics have yet to be built. `model.compile_metrics` will be empty until you train or evaluate the model.\n"
          ]
        },
        {
          "output_type": "stream",
          "name": "stdout",
          "text": [
            "\u001b[1m1/1\u001b[0m \u001b[32m━━━━━━━━━━━━━━━━━━━━\u001b[0m\u001b[37m\u001b[0m \u001b[1m0s\u001b[0m 77ms/step\n",
            "Prediction for new data: [[0]\n",
            " [0]\n",
            " [0]\n",
            " [0]\n",
            " [0]\n",
            " [0]\n",
            " [1]\n",
            " [0]\n",
            " [0]]\n"
          ]
        }
      ],
      "source": [
        "# Prediction Part\n",
        "from sklearn.preprocessing import LabelEncoder\n",
        "from tensorflow.keras.models import load_model\n",
        "import pandas as pd\n",
        "import joblib\n",
        "\n",
        "#read data\n",
        "test_data = pd.read_csv('/content/testing_dataset.csv')\n",
        "\n",
        "#read model\n",
        "model = load_model('model.h5')\n",
        "\n",
        "#read standarscaler\n",
        "scaler = joblib.load('scaler.pkl')\n",
        "\n",
        "#convert from textual into numerique\n",
        "numerique = LabelEncoder()\n",
        "test_data['gender'] = numerique.fit_transform(test_data['gender'])\n",
        "test_data['smoking_history'] = numerique.fit_transform(test_data['smoking_history'])\n",
        "\n",
        "#scaler data\n",
        "scaled = scaler.transform(test_data)\n",
        "\n",
        "#Predict\n",
        "prediction = model.predict(scaled)\n",
        "\n",
        "prediction = (prediction > 0.5).astype(int)\n",
        "\n",
        "print('Prediction for new data:',prediction)"
      ]
    }
  ]
}